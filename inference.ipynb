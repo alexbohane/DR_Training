{
 "cells": [
  {
   "cell_type": "code",
   "execution_count": 3,
   "id": "bb7721ea",
   "metadata": {},
   "outputs": [
    {
     "name": "stdout",
     "output_type": "stream",
     "text": [
      "True Label: 0, Predicted Label: 0\n",
      "Probabilities: [[0.77778447 0.22221555]]\n"
     ]
    }
   ],
   "source": [
    "import matplotlib.pyplot as plt\n",
    "import torch\n",
    "from data_loader import test_dataset\n",
    "from models.ResNet import get_resnet18_model\n",
    "\n",
    "# Load model\n",
    "device = torch.device('cuda' if torch.cuda.is_available() else 'cpu')\n",
    "model = get_resnet18_model(num_classes=2)\n",
    "model.load_state_dict(torch.load(\"saved_models/resnet_binary_lr2e4_messidor.pth\", map_location=device))\n",
    "model.to(device)\n",
    "model.eval()\n",
    "\n",
    "# Pick one sample\n",
    "img_tensor, label = test_dataset[90]\n",
    "img_tensor = img_tensor.unsqueeze(0).to(device)  # Add batch dimension\n",
    "\n",
    "# Inference\n",
    "with torch.no_grad():\n",
    "    output = model(img_tensor)\n",
    "    predicted_class = torch.argmax(output, dim=1).item()\n",
    "    probs = torch.softmax(output, dim=1)\n",
    "\n",
    "print(f\"True Label: {label.item()}, Predicted Label: {predicted_class}\")\n",
    "print(f\"Probabilities: {probs.cpu().numpy()}\")"
   ]
  },
  {
   "cell_type": "code",
   "execution_count": null,
   "id": "5361f26a",
   "metadata": {},
   "outputs": [],
   "source": []
  },
  {
   "cell_type": "code",
   "execution_count": 4,
   "id": "bbebdf14",
   "metadata": {},
   "outputs": [],
   "source": [
    "import numpy as np\n",
    "from sklearn.metrics import confusion_matrix\n",
    "\n",
    "\n",
    "# Collect all probabilities and true labels from the test set\n",
    "all_probs = []\n",
    "all_labels = []\n",
    "\n",
    "from torch.utils.data import DataLoader\n",
    "test_loader = DataLoader(test_dataset, batch_size=4, shuffle=False, num_workers=4, pin_memory=True)\n",
    "\n",
    "model.eval()\n",
    "with torch.no_grad():\n",
    "    for inputs, labels in test_loader:\n",
    "        inputs = inputs.to(device)\n",
    "        outputs = model(inputs)\n",
    "        probs = torch.softmax(outputs, dim=1)[:, 1]  # Probability for class 1 (unhealthy)\n",
    "        all_probs.extend(probs.cpu().numpy())\n",
    "        all_labels.extend(labels.cpu().numpy())\n",
    "\n",
    "all_probs = np.array(all_probs)\n",
    "all_labels = np.array(all_labels)\n",
    "\n",
    "def compute_sens_spec(threshold):\n",
    "    preds = (all_probs > threshold).astype(int)\n",
    "    tn, fp, fn, tp = confusion_matrix(all_labels, preds, labels=[0,1]).ravel()\n",
    "    sensitivity = tp / (tp + fn) if (tp + fn) > 0 else 0.0\n",
    "    specificity = tn / (tn + fp) if (tn + fp) > 0 else 0.0\n",
    "    return sensitivity, specificity\n"
   ]
  },
  {
   "cell_type": "code",
   "execution_count": 15,
   "id": "bb99b90d",
   "metadata": {},
   "outputs": [],
   "source": [
    "from sklearn.metrics import roc_auc_score, auc\n",
    "\n",
    "auc = roc_auc_score(all_labels, all_probs)\n",
    "print(f\"AUC: {auc:.3f}\")"
   ]
  },
  {
   "cell_type": "code",
   "execution_count": 20,
   "id": "72d7258a",
   "metadata": {},
   "outputs": [
    {
     "name": "stdout",
     "output_type": "stream",
     "text": [
      "Threshold: 0.30 | Sensitivity: 0.920 | Specificity: 0.729\n",
      "AUC: 0.946\n"
     ]
    }
   ],
   "source": [
    "threshold = 0.3  # Try different values here!\n",
    "sens, spec = compute_sens_spec(threshold)\n",
    "print(f\"Threshold: {threshold:.2f} | Sensitivity: {sens:.3f} | Specificity: {spec:.3f}\")\n",
    "\n",
    "from sklearn.metrics import roc_auc_score, auc\n",
    "\n",
    "auc = roc_auc_score(all_labels, all_probs)\n",
    "print(f\"AUC: {auc:.3f}\")"
   ]
  },
  {
   "cell_type": "code",
   "execution_count": null,
   "id": "8d8bdb4f",
   "metadata": {},
   "outputs": [],
   "source": [
    "# Unnormalize for visualization\n",
    "def unnormalize(tensor):\n",
    "    mean = torch.tensor([0.485, 0.456, 0.406]).view(3, 1, 1)\n",
    "    std = torch.tensor([0.229, 0.224, 0.225]).view(3, 1, 1)\n",
    "    return tensor * std + mean\n",
    "\n",
    "img_np = unnormalize(img_tensor[0].cpu()).permute(1, 2, 0).numpy()\n",
    "plt.imshow(img_np)\n",
    "plt.title(f\"True: {label.item()}, Pred: {predicted_class}\")\n",
    "plt.axis('off')\n",
    "plt.show()\n"
   ]
  }
 ],
 "metadata": {
  "kernelspec": {
   "display_name": ".venv",
   "language": "python",
   "name": "python3"
  },
  "language_info": {
   "codemirror_mode": {
    "name": "ipython",
    "version": 3
   },
   "file_extension": ".py",
   "mimetype": "text/x-python",
   "name": "python",
   "nbconvert_exporter": "python",
   "pygments_lexer": "ipython3",
   "version": "3.9.6"
  }
 },
 "nbformat": 4,
 "nbformat_minor": 5
}
