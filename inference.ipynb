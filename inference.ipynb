{
 "cells": [
  {
   "cell_type": "code",
   "execution_count": null,
   "id": "bb7721ea",
   "metadata": {},
   "outputs": [],
   "source": [
    "import matplotlib.pyplot as plt\n",
    "import torch\n",
    "from data_loader import test_dataset\n",
    "from models.ResNet import get_resnet18_model\n",
    "\n",
    "# Load model\n",
    "device = torch.device('cuda' if torch.cuda.is_available() else 'cpu')\n",
    "model = get_resnet18_model(num_classes=4)\n",
    "model.load_state_dict(torch.load(\"saved_models/resnet_messidor.pth\", map_location=device))\n",
    "model.to(device)\n",
    "model.eval()\n",
    "\n",
    "# Pick one sample\n",
    "img_tensor, label = test_dataset[90]\n",
    "img_tensor = img_tensor.unsqueeze(0).to(device)  # Add batch dimension\n",
    "\n",
    "# Inference\n",
    "with torch.no_grad():\n",
    "    output = model(img_tensor)\n",
    "    predicted_class = torch.argmax(output, dim=1).item()\n",
    "    probs = torch.softmax(output, dim=1)\n",
    "\n",
    "print(f\"True Label: {label.item()}, Predicted Label: {predicted_class}\")\n",
    "print(f\"Probabilities: {probs.cpu().numpy()}\")"
   ]
  },
  {
   "cell_type": "code",
   "execution_count": null,
   "id": "8d8bdb4f",
   "metadata": {},
   "outputs": [],
   "source": [
    "# Unnormalize for visualization\n",
    "def unnormalize(tensor):\n",
    "    mean = torch.tensor([0.485, 0.456, 0.406]).view(3, 1, 1)\n",
    "    std = torch.tensor([0.229, 0.224, 0.225]).view(3, 1, 1)\n",
    "    return tensor * std + mean\n",
    "\n",
    "img_np = unnormalize(img_tensor[0].cpu()).permute(1, 2, 0).numpy()\n",
    "plt.imshow(img_np)\n",
    "plt.title(f\"True: {label.item()}, Pred: {predicted_class}\")\n",
    "plt.axis('off')\n",
    "plt.show()\n"
   ]
  }
 ],
 "metadata": {
  "kernelspec": {
   "display_name": ".venv",
   "language": "python",
   "name": "python3"
  },
  "language_info": {
   "codemirror_mode": {
    "name": "ipython",
    "version": 3
   },
   "file_extension": ".py",
   "mimetype": "text/x-python",
   "name": "python",
   "nbconvert_exporter": "python",
   "pygments_lexer": "ipython3",
   "version": "3.9.6"
  }
 },
 "nbformat": 4,
 "nbformat_minor": 5
}
