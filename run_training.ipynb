{
 "cells": [
  {
   "cell_type": "code",
   "execution_count": 1,
   "id": "350990fb",
   "metadata": {},
   "outputs": [
    {
     "name": "stdout",
     "output_type": "stream",
     "text": [
      "Training set size: 960\n",
      "Test set size: 240\n",
      "Downloading: \"https://download.pytorch.org/models/efficientnet_b2_rwightman-c35c1473.pth\" to /root/.cache/torch/hub/checkpoints/efficientnet_b2_rwightman-c35c1473.pth\n"
     ]
    },
    {
     "name": "stderr",
     "output_type": "stream",
     "text": [
      "100%|██████████| 35.2M/35.2M [00:00<00:00, 111MB/s] \n"
     ]
    }
   ],
   "source": [
    "from models.ResNet import get_quantized_resnet18_model\n",
    "from models.DenseNet import get_densenet121_model\n",
    "from models.EfficientNet import get_efficientnet_b2_model\n",
    "from train import train_model\n",
    "from data_loader import train_loader, test_loader\n",
    "import torch\n",
    "from utils.class_weights import get_class_weights\n",
    "\n",
    "# Check if quantized model is used\n",
    "USE_QUANTIZED = False\n",
    "\n",
    "# Use CPU for quantized models, CUDA otherwise\n",
    "device = torch.device('cpu') if USE_QUANTIZED else torch.device('cuda' if torch.cuda.is_available() else 'cpu')\n",
    "\n",
    "if USE_QUANTIZED:\n",
    "    model = get_quantized_resnet18_model(num_classes=2)\n",
    "    model, final_transform = get_quantized_resnet18_model(num_classes=2)\n",
    "    train_loader.dataset.final_transform = final_transform\n",
    "    test_loader.dataset.final_transform = final_transform\n",
    "\n",
    "else:\n",
    "    model = get_efficientnet_b2_model(num_classes=2)  # or get_efficientnet()\n",
    "\n",
    "\n",
    "\n",
    "model.to(device)  # Safe now\n",
    "model.eval()      # Also important for quantized inference\n",
    "\n",
    "# Class weights\n",
    "class_weights = get_class_weights(train_loader.dataset, num_classes=2, device=str(device))"
   ]
  },
  {
   "cell_type": "code",
   "execution_count": 2,
   "id": "ecb3a910",
   "metadata": {},
   "outputs": [
    {
     "name": "stdout",
     "output_type": "stream",
     "text": [
      "Epoch 1/20, Loss: 0.3697, Val Loss: 0.6210, Val Accuracy: 0.7583, Val AUC: 0.8263\n",
      "✅ Validation loss improved, saving best model.\n",
      "Epoch 2/20, Loss: 0.2290, Val Loss: 0.3625, Val Accuracy: 0.8000, Val AUC: 0.9137\n",
      "✅ Validation loss improved, saving best model.\n",
      "Epoch 3/20, Loss: 0.1219, Val Loss: 0.5101, Val Accuracy: 0.8417, Val AUC: 0.9316\n",
      "⚠️ No improvement in val loss for 1 epoch(s).\n",
      "Epoch 4/20, Loss: 0.0788, Val Loss: 0.5794, Val Accuracy: 0.8417, Val AUC: 0.9343\n",
      "⚠️ No improvement in val loss for 2 epoch(s).\n",
      "Epoch 5/20, Loss: 0.1223, Val Loss: 0.5536, Val Accuracy: 0.8458, Val AUC: 0.9163\n",
      "⚠️ No improvement in val loss for 3 epoch(s).\n",
      "Epoch 6/20, Loss: 0.0830, Val Loss: 0.2827, Val Accuracy: 0.9042, Val AUC: 0.9634\n",
      "✅ Validation loss improved, saving best model.\n",
      "Epoch 7/20, Loss: 0.0764, Val Loss: 0.2604, Val Accuracy: 0.9083, Val AUC: 0.9656\n",
      "✅ Validation loss improved, saving best model.\n",
      "Epoch 8/20, Loss: 0.0690, Val Loss: 0.3874, Val Accuracy: 0.8958, Val AUC: 0.9594\n",
      "⚠️ No improvement in val loss for 1 epoch(s).\n",
      "Epoch 9/20, Loss: 0.1120, Val Loss: 0.3305, Val Accuracy: 0.9083, Val AUC: 0.9609\n",
      "⚠️ No improvement in val loss for 2 epoch(s).\n",
      "Epoch 10/20, Loss: 0.0674, Val Loss: 0.2793, Val Accuracy: 0.9167, Val AUC: 0.9646\n",
      "⚠️ No improvement in val loss for 3 epoch(s).\n",
      "Epoch 11/20, Loss: 0.0760, Val Loss: 0.2105, Val Accuracy: 0.9250, Val AUC: 0.9748\n",
      "✅ Validation loss improved, saving best model.\n",
      "Epoch 12/20, Loss: 0.0390, Val Loss: 0.2508, Val Accuracy: 0.9042, Val AUC: 0.9589\n",
      "⚠️ No improvement in val loss for 1 epoch(s).\n",
      "Epoch 13/20, Loss: 0.0511, Val Loss: 0.3948, Val Accuracy: 0.8917, Val AUC: 0.9631\n",
      "⚠️ No improvement in val loss for 2 epoch(s).\n",
      "Epoch 14/20, Loss: 0.0606, Val Loss: 0.2608, Val Accuracy: 0.9042, Val AUC: 0.9596\n",
      "⚠️ No improvement in val loss for 3 epoch(s).\n",
      "Epoch 15/20, Loss: 0.0408, Val Loss: 0.2906, Val Accuracy: 0.9083, Val AUC: 0.9646\n",
      "⚠️ No improvement in val loss for 4 epoch(s).\n",
      "Epoch 16/20, Loss: 0.0321, Val Loss: 0.3704, Val Accuracy: 0.9000, Val AUC: 0.9490\n",
      "⚠️ No improvement in val loss for 5 epoch(s).\n",
      "Epoch 17/20, Loss: 0.0306, Val Loss: 0.2335, Val Accuracy: 0.9250, Val AUC: 0.9766\n",
      "⚠️ No improvement in val loss for 6 epoch(s).\n",
      "Epoch 18/20, Loss: 0.0565, Val Loss: 0.3574, Val Accuracy: 0.9083, Val AUC: 0.9579\n",
      "⚠️ No improvement in val loss for 7 epoch(s).\n",
      "Epoch 19/20, Loss: 0.0324, Val Loss: 0.4950, Val Accuracy: 0.8958, Val AUC: 0.9679\n",
      "⚠️ No improvement in val loss for 8 epoch(s).\n",
      "Epoch 20/20, Loss: 0.0287, Val Loss: 0.2557, Val Accuracy: 0.9167, Val AUC: 0.9676\n",
      "⚠️ No improvement in val loss for 9 epoch(s).\n"
     ]
    }
   ],
   "source": [
    "trained_model = train_model(model, train_loader, test_loader, num_epochs=20, learning_rate=2e-4, device=str(device), class_weights=class_weights, model_id='efficient_net_b2')"
   ]
  },
  {
   "cell_type": "code",
   "execution_count": 3,
   "id": "e9136ddb",
   "metadata": {},
   "outputs": [],
   "source": [
    "import torch"
   ]
  },
  {
   "cell_type": "code",
   "execution_count": 4,
   "id": "5f2a8c30",
   "metadata": {},
   "outputs": [
    {
     "name": "stdout",
     "output_type": "stream",
     "text": [
      "Model saved successfully!\n"
     ]
    }
   ],
   "source": [
    "torch.save(trained_model.state_dict(), \"saved_models/efficient_net_b2.pth\")\n",
    "print(\"Model saved successfully!\")"
   ]
  },
  {
   "cell_type": "code",
   "execution_count": null,
   "id": "85b9a4b0",
   "metadata": {},
   "outputs": [],
   "source": []
  }
 ],
 "metadata": {
  "kernelspec": {
   "display_name": ".venv",
   "language": "python",
   "name": "python3"
  },
  "language_info": {
   "codemirror_mode": {
    "name": "ipython",
    "version": 3
   },
   "file_extension": ".py",
   "mimetype": "text/x-python",
   "name": "python",
   "nbconvert_exporter": "python",
   "pygments_lexer": "ipython3",
   "version": "3.10.12"
  }
 },
 "nbformat": 4,
 "nbformat_minor": 5
}
