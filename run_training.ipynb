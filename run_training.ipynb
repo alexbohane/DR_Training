{
 "cells": [
  {
   "cell_type": "code",
   "execution_count": 2,
   "metadata": {},
   "outputs": [
    {
     "name": "stderr",
     "output_type": "stream",
     "text": [
      "Downloading: \"https://download.pytorch.org/models/efficientnet_b2_rwightman-c35c1473.pth\" to /Users/abohane/.cache/torch/hub/checkpoints/efficientnet_b2_rwightman-c35c1473.pth\n",
      "100%|██████████| 35.2M/35.2M [00:08<00:00, 4.43MB/s]\n"
     ]
    }
   ],
   "source": [
    "from models.simple_cnn import SimpleCNN\n",
    "from models.ResNet import get_resnet18_model\n",
    "from models.DenseNet import get_densenet121_model\n",
    "from models.efficient_net_b2 import get_efficientnet\n",
    "from train import train_model\n",
    "from data_loader import train_loader, test_loader\n",
    "import torch\n",
    "from utils.class_weights import get_class_weights\n",
    "\n",
    "device = torch.device('cuda' if torch.cuda.is_available() else 'cpu')\n",
    "\n",
    "# model = get_densenet121_model(num_classes=4) # import the densenet\n",
    "model = get_efficientnet(num_classes=2)\n",
    "# model = get_efficientnet_b7_model(num_classes=2)\n",
    "class_weights = get_class_weights(train_loader.dataset, num_classes=2, device=str(device))"
   ]
  },
  {
   "cell_type": "code",
   "execution_count": null,
   "metadata": {},
   "outputs": [],
   "source": [
    "# Train the model\n",
    "trained_model = train_model(model, train_loader, test_loader, num_epochs=1, learning_rate=2e-4, device=str(device), class_weights=class_weights, model_id='resnet_binary_lr2e4')\n",
    "\n",
    "\n"
   ]
  },
  {
   "cell_type": "code",
   "execution_count": 3,
   "metadata": {},
   "outputs": [],
   "source": [
    "import torch"
   ]
  },
  {
   "cell_type": "code",
   "execution_count": 4,
   "metadata": {},
   "outputs": [
    {
     "name": "stdout",
     "output_type": "stream",
     "text": [
      "Model saved successfully!\n"
     ]
    }
   ],
   "source": [
    "# Save the trained model\n",
    "torch.save(trained_model.state_dict(), \"saved_models/resnet_binary_lr2e4_messidor.pth\")\n",
    "print(\"Model saved successfully!\")"
   ]
  },
  {
   "cell_type": "code",
   "execution_count": null,
   "metadata": {},
   "outputs": [],
   "source": [
    "# Load the model\n",
    "from models.ResNet import get_resnet18_model\n",
    "import torch\n",
    "\n",
    "device = torch.device('cuda' if torch.cuda.is_available() else 'cpu')\n",
    "\n",
    "model = get_resnet18_model(num_classes=4)\n",
    "model.load_state_dict(torch.load(\"saved_models/resnet_messidor.pth\", map_location=device))\n",
    "model = model.to(device)\n",
    "model.eval()\n",
    "\n",
    "print(\"Model loaded successfully!\")\n"
   ]
  },
  {
   "cell_type": "code",
   "execution_count": null,
   "metadata": {},
   "outputs": [],
   "source": [
    "print(model)"
   ]
  }
 ],
 "metadata": {
  "kernelspec": {
   "display_name": ".venv",
   "language": "python",
   "name": "python3"
  },
  "language_info": {
   "codemirror_mode": {
    "name": "ipython",
    "version": 3
   },
   "file_extension": ".py",
   "mimetype": "text/x-python",
   "name": "python",
   "nbconvert_exporter": "python",
   "pygments_lexer": "ipython3",
   "version": "3.9.6"
  }
 },
 "nbformat": 4,
 "nbformat_minor": 2
}
