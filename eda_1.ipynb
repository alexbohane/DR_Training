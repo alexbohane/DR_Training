{
 "cells": [
  {
   "cell_type": "code",
   "execution_count": null,
   "metadata": {},
   "outputs": [],
   "source": [
    "import pandas as pd\n",
    "from torch.utils.data import DataLoader\n",
    "from dataset_class import MessidorOpenCVDataset\n",
    "from preprocess_class import OpenCV_DR_Preprocessor\n",
    "import matplotlib.pyplot as plt\n",
    "from transforms import light_transform, heavy_transform\n",
    "\n",
    "\n",
    "preprocessor = OpenCV_DR_Preprocessor(apply_clahe=True)\n",
    "\n",
    "# Create dataset\n",
    "dataset = MessidorOpenCVDataset(root_dir='/Users/abohane/Desktop/THEIA Training/MESSIDOR',\n",
    "                                preprocessor=preprocessor,\n",
    "                                light_transform=None,\n",
    "                                heavy_transform=None,\n",
    "                                minority_classes=[3])\n",
    "\n",
    "# Create dataloader\n",
    "dataloader = DataLoader(dataset,\n",
    "                        batch_size=32,\n",
    "                        shuffle=True,\n",
    "                        num_workers=4,\n",
    "                        pin_memory=True)\n"
   ]
  },
  {
   "cell_type": "code",
   "execution_count": null,
   "metadata": {},
   "outputs": [],
   "source": [
    "# Check one batch\n",
    "for images, labels in dataloader:\n",
    "    print(images.shape)  # torch.Size([32, 3, 224, 224])\n",
    "    print(labels.shape)  # torch.Size([32])\n",
    "    break\n"
   ]
  },
  {
   "cell_type": "code",
   "execution_count": null,
   "metadata": {},
   "outputs": [],
   "source": [
    "print(dataset.data.columns)  # See column names\n",
    "print(len(dataset.data))     # Number of total samples\n",
    "\n",
    "print(dataset.data['Retinopathy grade'].value_counts())\n",
    "\n"
   ]
  },
  {
   "cell_type": "code",
   "execution_count": null,
   "metadata": {},
   "outputs": [],
   "source": [
    "hist = dataset.data['Retinopathy grade'].value_counts().sort_index()\n",
    "# print histogram\n",
    "hist.plot(kind='bar')\n",
    "plt.xlabel('Retinopathy Grade')\n",
    "plt.ylabel('Count')\n",
    "plt.xticks(rotation=0)\n",
    "plt.show()"
   ]
  },
  {
   "cell_type": "code",
   "execution_count": null,
   "metadata": {},
   "outputs": [],
   "source": [
    "import matplotlib.pyplot as plt\n",
    "import numpy as np\n",
    "\n",
    "def show_batch_images(dataloader, dataset, n_images=8):\n",
    "    \"\"\"\n",
    "    Plots a few images from the dataloader along with their filename and label.\n",
    "\n",
    "    Args:\n",
    "        dataloader: PyTorch DataLoader\n",
    "        dataset: Dataset object (to get filenames)\n",
    "        n_images: How many images to show\n",
    "    \"\"\"\n",
    "    # Get one batch\n",
    "    images, labels = next(iter(dataloader))\n",
    "\n",
    "    # Undo normalization (ImageNet stats)\n",
    "    mean = np.array([0.485, 0.456, 0.406])\n",
    "    std = np.array([0.229, 0.224, 0.225])\n",
    "\n",
    "    # Create a figure\n",
    "    plt.figure(figsize=(20, 8))\n",
    "\n",
    "    for idx in range(n_images):\n",
    "        img = images[idx]\n",
    "\n",
    "        # Unnormalize\n",
    "        img = img.permute(1, 2, 0).cpu().numpy()  # (C, H, W) -> (H, W, C)\n",
    "        img = (img * std) + mean  # De-normalize\n",
    "        img = np.clip(img, 0, 1)\n",
    "\n",
    "        # Find filename and label\n",
    "        dataset_idx = idx  #shuffled DataLoader, this matches first batch samples\n",
    "        if hasattr(dataloader.dataset, 'data'):\n",
    "            info = dataset.data.iloc[dataset_idx]\n",
    "            filename = info['Image name']\n",
    "            grade = info['Retinopathy grade']\n",
    "        else:\n",
    "            filename = \"Unknown\"\n",
    "            grade = labels[idx].item()\n",
    "\n",
    "        # Plot\n",
    "        plt.subplot(2, n_images//2, idx + 1)\n",
    "        plt.imshow(img)\n",
    "        plt.axis('off')\n",
    "        plt.title(f\"{filename}\\nGrade: {grade}\", fontsize=10)\n",
    "\n",
    "    plt.tight_layout()\n",
    "    plt.show()\n"
   ]
  },
  {
   "cell_type": "code",
   "execution_count": null,
   "metadata": {},
   "outputs": [],
   "source": [
    "show_batch_images(dataloader, dataset, n_images=8)\n"
   ]
  }
 ],
 "metadata": {
  "kernelspec": {
   "display_name": ".venv",
   "language": "python",
   "name": "python3"
  },
  "language_info": {
   "codemirror_mode": {
    "name": "ipython",
    "version": 3
   },
   "file_extension": ".py",
   "mimetype": "text/x-python",
   "name": "python",
   "nbconvert_exporter": "python",
   "pygments_lexer": "ipython3",
   "version": "3.9.6"
  }
 },
 "nbformat": 4,
 "nbformat_minor": 2
}
